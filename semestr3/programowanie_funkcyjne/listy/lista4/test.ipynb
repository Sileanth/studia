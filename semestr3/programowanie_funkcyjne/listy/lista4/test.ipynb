{
 "cells": [
  {
   "cell_type": "code",
   "execution_count": 1,
   "metadata": {
    "vscode": {
     "languageId": "ocaml"
    }
   },
   "outputs": [
    {
     "name": "stdout",
     "output_type": "stream",
     "text": [
      "type 'a nlist =\n",
      "    Nil\n",
      "  | Zero of ('a * 'a) nlist\n",
      "  | One of 'a * ('a * 'a) nlist\n",
      "  | Two of 'a * 'a * ('a * 'a) nlist\n",
      "val cons : 'a -> 'a nlist -> 'a nlist = <fun>\n",
      "val view : 'a nlist -> ('a * 'a nlist) option = <fun>\n",
      "val nth : int -> 'a nlist -> 'a = <fun>\n"
     ]
    }
   ],
   "source": [
    "#use \"zad1.ml\""
   ]
  },
  {
   "cell_type": "code",
   "execution_count": 5,
   "metadata": {
    "vscode": {
     "languageId": "ocaml"
    }
   },
   "outputs": [
    {
     "data": {
      "text/plain": [
       "val genlist : int -> int nlist = <fun>\n"
      ]
     },
     "execution_count": 5,
     "metadata": {},
     "output_type": "execute_result"
    },
    {
     "data": {
      "text/plain": [
       "val v : int nlist = Two (8, 7, One ((6, 5), One (((4, 3), (2, 1)), Nil)))\n"
      ]
     },
     "execution_count": 5,
     "metadata": {},
     "output_type": "execute_result"
    }
   ],
   "source": [
    "let rec genlist n = \n",
    "  match n with\n",
    "  | 0 -> Nil\n",
    "  | n -> cons n (genlist (n-1))\n",
    "\n",
    "let v = genlist 8"
   ]
  },
  {
   "cell_type": "code",
   "execution_count": null,
   "metadata": {
    "vscode": {
     "languageId": "ocaml"
    }
   },
   "outputs": [],
   "source": []
  },
  {
   "cell_type": "code",
   "execution_count": null,
   "metadata": {
    "vscode": {
     "languageId": "ocaml"
    }
   },
   "outputs": [],
   "source": []
  }
 ],
 "metadata": {
  "kernelspec": {
   "display_name": "OCaml default",
   "language": "OCaml",
   "name": "ocaml-jupyter"
  },
  "language_info": {
   "codemirror_mode": "text/x-ocaml",
   "file_extension": ".ml",
   "mimetype": "text/x-ocaml",
   "name": "OCaml",
   "nbconverter_exporter": null,
   "pygments_lexer": "OCaml",
   "version": "4.14.0"
  },
  "orig_nbformat": 4
 },
 "nbformat": 4,
 "nbformat_minor": 2
}
