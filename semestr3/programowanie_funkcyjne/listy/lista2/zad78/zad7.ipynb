{
 "cells": [
  {
   "cell_type": "code",
   "execution_count": 14,
   "metadata": {
    "vscode": {
     "languageId": "ocaml"
    }
   },
   "outputs": [
    {
     "data": {
      "text/plain": [
       "type 'a tree =\n",
       "    Leaf\n",
       "  | Node of { len : int; left : 'a tree; right : 'a tree; value : 'a; }\n"
      ]
     },
     "execution_count": 14,
     "metadata": {},
     "output_type": "execute_result"
    }
   ],
   "source": [
    "type 'a tree = \n",
    "  | Leaf\n",
    "  | Node of { len : int; left : 'a tree; right : 'a tree; value : 'a }\n"
   ]
  },
  {
   "cell_type": "code",
   "execution_count": 20,
   "metadata": {
    "vscode": {
     "languageId": "ocaml"
    }
   },
   "outputs": [
    {
     "data": {
      "text/plain": [
       "val construct : 'a tree -> 'a tree -> 'a -> 'a tree = <fun>\n"
      ]
     },
     "execution_count": 20,
     "metadata": {},
     "output_type": "execute_result"
    }
   ],
   "source": [
    "let construct a b v = \n",
    "  match a ,b with\n",
    "  | Leaf , Leaf -> Node {len = 1; left = a; right = b; value = v}\n",
    "  | Leaf , Node _ -> Node {len = 1 ; left = b; right = a ; value = v}\n",
    "  | Node _ , Leaf -> Node {len = 1  ; left = a; right = b ; value = v}\n",
    "  | Node {len = la} , Node {len = lb} when la <= lb -> Node {len = 1 + la ; left = b ; right = a; value = v}\n",
    "  | Node {len = la} , Node {len = lb} -> Node {len = 1 + lb ; left = a ; right = b; value = v}\n",
    "\n",
    "  \n",
    "  "
   ]
  },
  {
   "cell_type": "code",
   "execution_count": 24,
   "metadata": {
    "vscode": {
     "languageId": "ocaml"
    }
   },
   "outputs": [
    {
     "data": {
      "text/plain": [
       "val union : 'a tree -> 'a tree -> 'a tree = <fun>\n"
      ]
     },
     "execution_count": 24,
     "metadata": {},
     "output_type": "execute_result"
    }
   ],
   "source": [
    "let rec union a b =\n",
    "  match a , b with\n",
    "  | Leaf , Leaf -> Leaf\n",
    "  | Leaf , Node _ -> b\n",
    "  | Node _ , Leaf -> a\n",
    "  | Node {value = va; left =la ; right = ra} , Node {value = vb ; left = lb; right = rb} \n",
    "      when va <= vb -> construct la (union ra b) va\n",
    "  | Node {value = va; left =la ; right = ra} , Node {value = vb ; left = lb; right = rb} \n",
    "      -> construct lb (union rb a) vb"
   ]
  },
  {
   "cell_type": "code",
   "execution_count": 25,
   "metadata": {
    "vscode": {
     "languageId": "ocaml"
    }
   },
   "outputs": [
    {
     "data": {
      "text/plain": [
       "val add : 'a -> 'a tree -> 'a tree = <fun>\n"
      ]
     },
     "execution_count": 25,
     "metadata": {},
     "output_type": "execute_result"
    }
   ],
   "source": [
    "let add v t =\n",
    "  union t (construct Leaf Leaf v)"
   ]
  },
  {
   "cell_type": "code",
   "execution_count": 26,
   "metadata": {
    "vscode": {
     "languageId": "ocaml"
    }
   },
   "outputs": [
    {
     "data": {
      "text/plain": [
       "val pop : 'a tree -> 'a tree = <fun>\n"
      ]
     },
     "execution_count": 26,
     "metadata": {},
     "output_type": "execute_result"
    }
   ],
   "source": [
    "let pop = function\n",
    "  | Leaf -> Leaf\n",
    "  | Node {left ; right} -> union left right"
   ]
  },
  {
   "cell_type": "code",
   "execution_count": 31,
   "metadata": {
    "vscode": {
     "languageId": "ocaml"
    }
   },
   "outputs": [
    {
     "data": {
      "text/plain": [
       "val t : int tree = Node {len = 1; left = Leaf; right = Leaf; value = 5}\n"
      ]
     },
     "execution_count": 31,
     "metadata": {},
     "output_type": "execute_result"
    }
   ],
   "source": [
    "let t = add 5 Leaf"
   ]
  },
  {
   "cell_type": "code",
   "execution_count": 32,
   "metadata": {
    "vscode": {
     "languageId": "ocaml"
    }
   },
   "outputs": [
    {
     "data": {
      "text/plain": [
       "val y : int tree = Node {len = 1; left = Leaf; right = Leaf; value = 7}\n"
      ]
     },
     "execution_count": 32,
     "metadata": {},
     "output_type": "execute_result"
    }
   ],
   "source": [
    "let y = add 7 Leaf"
   ]
  },
  {
   "cell_type": "code",
   "execution_count": 33,
   "metadata": {
    "vscode": {
     "languageId": "ocaml"
    }
   },
   "outputs": [
    {
     "data": {
      "text/plain": [
       "val t : int tree =\n",
       "  Node\n",
       "   {len = 1; left = Node {len = 1; left = Leaf; right = Leaf; value = 9};\n",
       "    right = Leaf; value = 5}\n"
      ]
     },
     "execution_count": 33,
     "metadata": {},
     "output_type": "execute_result"
    }
   ],
   "source": [
    "let t = add 9 t"
   ]
  },
  {
   "cell_type": "code",
   "execution_count": null,
   "metadata": {
    "vscode": {
     "languageId": "ocaml"
    }
   },
   "outputs": [],
   "source": []
  }
 ],
 "metadata": {
  "kernelspec": {
   "display_name": "OCaml default",
   "language": "OCaml",
   "name": "ocaml-jupyter"
  },
  "language_info": {
   "codemirror_mode": "text/x-ocaml",
   "file_extension": ".ml",
   "mimetype": "text/x-ocaml",
   "name": "OCaml",
   "nbconverter_exporter": null,
   "pygments_lexer": "OCaml",
   "version": "4.14.0"
  },
  "orig_nbformat": 4
 },
 "nbformat": 4,
 "nbformat_minor": 2
}
