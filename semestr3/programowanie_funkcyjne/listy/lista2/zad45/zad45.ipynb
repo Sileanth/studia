{
 "cells": [
  {
   "cell_type": "code",
   "execution_count": 3,
   "metadata": {
    "vscode": {
     "languageId": "ocaml"
    }
   },
   "outputs": [
    {
     "data": {
      "text/plain": [
       "val rek : 'a list -> 'a list -> 'a list -> 'a list * 'a list = <fun>\n"
      ]
     },
     "execution_count": 3,
     "metadata": {},
     "output_type": "execute_result"
    },
    {
     "data": {
      "text/plain": [
       "val split : 'a list -> 'a list * 'a list = <fun>\n"
      ]
     },
     "execution_count": 3,
     "metadata": {},
     "output_type": "execute_result"
    }
   ],
   "source": [
    "let rec rek xs ys zs =\n",
    "  match xs with\n",
    "  | [] -> ys, zs\n",
    "  | [x] -> x :: ys , zs\n",
    "  | [x ; y] -> x :: ys , y :: zs\n",
    "  | x :: y :: rest -> (rek [@tailcall]) rest (x :: ys) ( y :: zs) \n",
    "\n",
    "let split xs = rek xs [] []"
   ]
  },
  {
   "cell_type": "markdown",
   "metadata": {},
   "source": [
    "Sort nieogonowy"
   ]
  },
  {
   "cell_type": "code",
   "execution_count": 4,
   "metadata": {
    "vscode": {
     "languageId": "ocaml"
    }
   },
   "outputs": [
    {
     "data": {
      "text/plain": [
       "val merge : ('a -> 'a -> bool) -> 'a list -> 'a list -> 'a list = <fun>\n"
      ]
     },
     "execution_count": 4,
     "metadata": {},
     "output_type": "execute_result"
    },
    {
     "data": {
      "text/plain": [
       "val sort : 'a list -> 'a list = <fun>\n"
      ]
     },
     "execution_count": 4,
     "metadata": {},
     "output_type": "execute_result"
    }
   ],
   "source": [
    "let rec merge cmp xs ys =\n",
    "  match xs, ys with\n",
    "  | [], ys -> ys\n",
    "  | xs, [] -> xs\n",
    "  | (x :: xs), (y :: ys) when cmp x y -> x :: merge  cmp xs (y :: ys)\n",
    "  | (x :: xs), (y :: ys) -> y :: merge   cmp (x :: xs) ys\n",
    "\n",
    "let rec sort = function\n",
    "  | [] -> []\n",
    "  | [x] -> [x]\n",
    "  | x :: xs as l -> let (f, s) = split l in merge (<=) (sort f) (sort s)\n",
    "\n"
   ]
  },
  {
   "cell_type": "code",
   "execution_count": null,
   "metadata": {
    "vscode": {
     "languageId": "ocaml"
    }
   },
   "outputs": [],
   "source": []
  },
  {
   "cell_type": "markdown",
   "metadata": {},
   "source": []
  }
 ],
 "metadata": {
  "kernelspec": {
   "display_name": "OCaml default",
   "language": "OCaml",
   "name": "ocaml-jupyter"
  },
  "language_info": {
   "codemirror_mode": "text/x-ocaml",
   "file_extension": ".ml",
   "mimetype": "text/x-ocaml",
   "name": "OCaml",
   "nbconverter_exporter": null,
   "pygments_lexer": "OCaml",
   "version": "4.14.0"
  },
  "orig_nbformat": 4
 },
 "nbformat": 4,
 "nbformat_minor": 2
}
