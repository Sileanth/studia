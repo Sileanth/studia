{
 "cells": [
  {
   "cell_type": "code",
   "execution_count": 2,
   "metadata": {
    "vscode": {
     "languageId": "ocaml"
    }
   },
   "outputs": [
    {
     "data": {
      "text/plain": [
       "exception TooShort\n"
      ]
     },
     "execution_count": 2,
     "metadata": {},
     "output_type": "execute_result"
    },
    {
     "data": {
      "text/plain": [
       "val rem : 'a list -> 'a -> 'a list = <fun>\n"
      ]
     },
     "execution_count": 2,
     "metadata": {},
     "output_type": "execute_result"
    },
    {
     "data": {
      "text/plain": [
       "val sel_perm : 'a list -> 'a list -> 'a list list = <fun>\n"
      ]
     },
     "execution_count": 2,
     "metadata": {},
     "output_type": "execute_result"
    }
   ],
   "source": [
    "exception TooShort\n",
    "let rec rem xs n =\n",
    "  match xs with\n",
    "  | [] -> raise(TooShort)\n",
    "  | x :: xs when n = x -> xs\n",
    "  | x :: xs -> x :: rem xs n\n",
    "\n",
    "let rec sel_perm xs zs =\n",
    "    match xs with\n",
    "    | [] -> [zs]\n",
    "    | (y :: ys) as xs -> List.fold_left (fun x y -> x @ y) [] (List.map (fun x -> sel_perm (rem xs x) (x :: zs)) xs) \n"
   ]
  },
  {
   "cell_type": "code",
   "execution_count": 3,
   "metadata": {
    "vscode": {
     "languageId": "ocaml"
    }
   },
   "outputs": [
    {
     "data": {
      "text/plain": [
       "- : int list list =\n",
       "[[3; 2; 1]; [2; 3; 1]; [3; 1; 2]; [1; 3; 2]; [2; 1; 3]; [1; 2; 3]]\n"
      ]
     },
     "execution_count": 3,
     "metadata": {},
     "output_type": "execute_result"
    }
   ],
   "source": [
    "\n",
    "sel_perm [1 ; 2 ; 3] []"
   ]
  },
  {
   "cell_type": "code",
   "execution_count": 4,
   "metadata": {
    "vscode": {
     "languageId": "ocaml"
    }
   },
   "outputs": [
    {
     "data": {
      "text/plain": [
       "val insert : 'a list -> 'a -> int -> 'a list = <fun>\n"
      ]
     },
     "execution_count": 4,
     "metadata": {},
     "output_type": "execute_result"
    },
    {
     "data": {
      "text/plain": [
       "val range : int -> int list = <fun>\n"
      ]
     },
     "execution_count": 4,
     "metadata": {},
     "output_type": "execute_result"
    },
    {
     "data": {
      "text/plain": [
       "val sel_perm : 'a list -> 'a list -> 'a list list = <fun>\n"
      ]
     },
     "execution_count": 4,
     "metadata": {},
     "output_type": "execute_result"
    }
   ],
   "source": [
    "let rec insert xs z n =\n",
    "  match n , xs with\n",
    "  | 0, [] -> [z]\n",
    "  | 0 , x :: xs -> z :: x :: xs\n",
    "  | n , [] -> raise(TooShort)\n",
    "  | n , x :: xs -> x :: insert xs z (n-1) \n",
    "\n",
    "let range n =\n",
    "  let rec rek = function\n",
    "    | 0 -> []\n",
    "    | x -> (n - x) :: rek (x - 1) \n",
    "in rek n\n",
    "\n",
    "let rec ins_perm xs zs =\n",
    "  match xs with\n",
    "  | [] -> [zs]\n",
    "  | (x :: xs) -> List.fold_left (fun x y -> x @ y) [] (List.map (fun z ->(ins_perm xs (insert zs x z)))  (range ((List.length zs) + 1) ))"
   ]
  },
  {
   "cell_type": "code",
   "execution_count": 5,
   "metadata": {
    "vscode": {
     "languageId": "ocaml"
    }
   },
   "outputs": [
    {
     "data": {
      "text/plain": [
       "- : int list list =\n",
       "[[4; 3; 2; 1]; [3; 4; 2; 1]; [3; 2; 4; 1]; [3; 2; 1; 4]; [4; 2; 3; 1];\n",
       " [2; 4; 3; 1]; [2; 3; 4; 1]; [2; 3; 1; 4]; [4; 2; 1; 3]; [2; 4; 1; 3];\n",
       " [2; 1; 4; 3]; [2; 1; 3; 4]; [4; 3; 1; 2]; [3; 4; 1; 2]; [3; 1; 4; 2];\n",
       " [3; 1; 2; 4]; [4; 1; 3; 2]; [1; 4; 3; 2]; [1; 3; 4; 2]; [1; 3; 2; 4];\n",
       " [4; 1; 2; 3]; [1; 4; 2; 3]; [1; 2; 4; 3]; [1; 2; 3; 4]]\n"
      ]
     },
     "execution_count": 5,
     "metadata": {},
     "output_type": "execute_result"
    }
   ],
   "source": [
    "sel_perm [1 ; 2 ;3 ;4] []"
   ]
  },
  {
   "cell_type": "code",
   "execution_count": 36,
   "metadata": {
    "vscode": {
     "languageId": "ocaml"
    }
   },
   "outputs": [
    {
     "data": {
      "text/plain": [
       "val z : int list = [0; 1; 2; 3; 4; 3]\n"
      ]
     },
     "execution_count": 36,
     "metadata": {},
     "output_type": "execute_result"
    }
   ],
   "source": [
    "let z = insert x 3 5"
   ]
  },
  {
   "cell_type": "code",
   "execution_count": null,
   "metadata": {
    "vscode": {
     "languageId": "ocaml"
    }
   },
   "outputs": [],
   "source": []
  }
 ],
 "metadata": {
  "kernelspec": {
   "display_name": "OCaml default",
   "language": "OCaml",
   "name": "ocaml-jupyter"
  },
  "language_info": {
   "codemirror_mode": "text/x-ocaml",
   "file_extension": ".ml",
   "mimetype": "text/x-ocaml",
   "name": "OCaml",
   "nbconverter_exporter": null,
   "pygments_lexer": "OCaml",
   "version": "4.14.0"
  },
  "orig_nbformat": 4,
  "vscode": {
   "interpreter": {
    "hash": "e7370f93d1d0cde622a1f8e1c04877d8463912d04d973331ad4851f04de6915a"
   }
  }
 },
 "nbformat": 4,
 "nbformat_minor": 2
}
