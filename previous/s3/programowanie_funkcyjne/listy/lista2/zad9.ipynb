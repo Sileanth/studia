{
 "cells": [
  {
   "cell_type": "code",
   "execution_count": 9,
   "metadata": {
    "vscode": {
     "languageId": "ocaml"
    }
   },
   "outputs": [
    {
     "data": {
      "text/plain": [
       "type 'a clist = { clist : 'z. ('a -> 'z -> 'z) -> 'z -> 'z; }\n"
      ]
     },
     "execution_count": 9,
     "metadata": {},
     "output_type": "execute_result"
    }
   ],
   "source": [
    "type 'a clist = {clist : 'z. ('a -> 'z -> 'z) -> 'z -> 'z}"
   ]
  },
  {
   "cell_type": "code",
   "execution_count": 10,
   "metadata": {
    "vscode": {
     "languageId": "ocaml"
    }
   },
   "outputs": [
    {
     "data": {
      "text/plain": [
       "val cnil : 'a clist = {clist = <fun>}\n"
      ]
     },
     "execution_count": 10,
     "metadata": {},
     "output_type": "execute_result"
    }
   ],
   "source": [
    "let cnil = {clist = fun f z -> z}"
   ]
  },
  {
   "cell_type": "code",
   "execution_count": 11,
   "metadata": {
    "vscode": {
     "languageId": "ocaml"
    }
   },
   "outputs": [
    {
     "data": {
      "text/plain": [
       "val ccons : 'a -> 'a clist -> 'a clist = <fun>\n"
      ]
     },
     "execution_count": 11,
     "metadata": {},
     "output_type": "execute_result"
    }
   ],
   "source": [
    "let ccons x cl =\n",
    "  match cl with\n",
    "  | {clist = cl} -> {clist = \n",
    "      fun f z -> f x (cl f z)\n",
    "    }"
   ]
  },
  {
   "cell_type": "code",
   "execution_count": 12,
   "metadata": {
    "vscode": {
     "languageId": "ocaml"
    }
   },
   "outputs": [
    {
     "data": {
      "text/plain": [
       "val map : ('a -> 'b) -> 'a clist -> 'b clist = <fun>\n"
      ]
     },
     "execution_count": 12,
     "metadata": {},
     "output_type": "execute_result"
    }
   ],
   "source": [
    "let map fm cl =\n",
    "  {clist  = fun f z ->\n",
    "    let nf na nz = f (fm na) nz in\n",
    "    cl.clist nf z   \n",
    "  }\n"
   ]
  },
  {
   "cell_type": "code",
   "execution_count": 13,
   "metadata": {
    "vscode": {
     "languageId": "ocaml"
    }
   },
   "outputs": [
    {
     "data": {
      "text/plain": [
       "val append : 'a clist -> 'a clist -> 'a clist = <fun>\n"
      ]
     },
     "execution_count": 13,
     "metadata": {},
     "output_type": "execute_result"
    }
   ],
   "source": [
    "let append a b =\n",
    "  match a , b with\n",
    "  | {clist = a} , {clist = b} ->\n",
    "      {clist = fun f z ->\n",
    "        a f (b f z)\n",
    "      }"
   ]
  },
  {
   "cell_type": "code",
   "execution_count": 14,
   "metadata": {
    "vscode": {
     "languageId": "ocaml"
    }
   },
   "outputs": [
    {
     "data": {
      "text/plain": [
       "val clist_to_list : 'a clist -> 'a list = <fun>\n"
      ]
     },
     "execution_count": 14,
     "metadata": {},
     "output_type": "execute_result"
    }
   ],
   "source": [
    "let clist_to_list = function\n",
    "| {clist = cl} -> cl (fun a z -> a :: z) []"
   ]
  },
  {
   "cell_type": "code",
   "execution_count": 15,
   "metadata": {
    "vscode": {
     "languageId": "ocaml"
    }
   },
   "outputs": [
    {
     "data": {
      "text/plain": [
       "val list_to_clist : 'a list -> 'a clist = <fun>\n"
      ]
     },
     "execution_count": 15,
     "metadata": {},
     "output_type": "execute_result"
    }
   ],
   "source": [
    "let rec list_to_clist (xs : 'a list) =\n",
    "  match xs with\n",
    "  | [] -> cnil\n",
    "  | x :: xs -> ccons x (list_to_clist xs)"
   ]
  },
  {
   "cell_type": "code",
   "execution_count": 16,
   "metadata": {
    "vscode": {
     "languageId": "ocaml"
    }
   },
   "outputs": [
    {
     "data": {
      "text/plain": [
       "val z : int list = [5; 1; 2; 3; 4; 5; 3; 4; 2]\n"
      ]
     },
     "execution_count": 16,
     "metadata": {},
     "output_type": "execute_result"
    }
   ],
   "source": [
    "let z = clist_to_list (append (ccons 5 (list_to_clist [1 ; 2 ; 3 ; 4 ; 5])) (list_to_clist [3 ; 4 ; 2]))"
   ]
  },
  {
   "cell_type": "code",
   "execution_count": 17,
   "metadata": {
    "vscode": {
     "languageId": "ocaml"
    }
   },
   "outputs": [
    {
     "data": {
      "text/plain": [
       "val prod : 'a clist -> 'b clist -> ('a * 'b) clist = <fun>\n"
      ]
     },
     "execution_count": 17,
     "metadata": {},
     "output_type": "execute_result"
    }
   ],
   "source": [
    "let prod a b = \n",
    "    {clist = fun f c->\n",
    "        let temp = {clist = fun f c ->\n",
    "            (a.clist (fun x z -> append (map (fun y -> x , y) b) z) cnil).clist f c\n",
    "        } in\n",
    "        temp.clist f c\n",
    "    }"
   ]
  },
  {
   "cell_type": "code",
   "execution_count": 18,
   "metadata": {
    "vscode": {
     "languageId": "ocaml"
    }
   },
   "outputs": [
    {
     "data": {
      "text/plain": [
       "val x : int clist = {clist = <fun>}\n"
      ]
     },
     "execution_count": 18,
     "metadata": {},
     "output_type": "execute_result"
    },
    {
     "data": {
      "text/plain": [
       "val y : string clist = {clist = <fun>}\n"
      ]
     },
     "execution_count": 18,
     "metadata": {},
     "output_type": "execute_result"
    },
    {
     "data": {
      "text/plain": [
       "val z : (int * string) clist = {clist = <fun>}\n"
      ]
     },
     "execution_count": 18,
     "metadata": {},
     "output_type": "execute_result"
    },
    {
     "data": {
      "text/plain": [
       "val res : (int * string) list =\n",
       "  [(1, \"x^2\"); (1, \"x^1\"); (1, \"x^0\"); (2, \"x^2\"); (2, \"x^1\"); (2, \"x^0\");\n",
       "   (3, \"x^2\"); (3, \"x^1\"); (3, \"x^0\")]\n"
      ]
     },
     "execution_count": 18,
     "metadata": {},
     "output_type": "execute_result"
    }
   ],
   "source": [
    "let x = list_to_clist [1 ; 2 ;3]\n",
    "let y = list_to_clist [ \"x^2\" ; \"x^1\" ; \"x^0\"]\n",
    "let z = prod x y\n",
    "let res = clist_to_list z"
   ]
  },
  {
   "cell_type": "code",
   "execution_count": 19,
   "metadata": {
    "vscode": {
     "languageId": "ocaml"
    }
   },
   "outputs": [
    {
     "data": {
      "text/plain": [
       "val sing : 'a -> 'a clist = <fun>\n"
      ]
     },
     "execution_count": 19,
     "metadata": {},
     "output_type": "execute_result"
    },
    {
     "data": {
      "text/plain": [
       "val pot : 'a clist -> 'b clist -> ('b * 'a) clist clist = <fun>\n"
      ]
     },
     "execution_count": 19,
     "metadata": {},
     "output_type": "execute_result"
    }
   ],
   "source": [
    "let sing x = \n",
    "  ccons x cnil\n",
    "\n",
    "  let pot b e =\n",
    "    {clist = fun fout aout ->\n",
    "      (e.clist \n",
    "        (fun i c ->\n",
    "          (map (fun (h , t) -> ccons h t)\n",
    "            \n",
    "            (prod (prod (sing i) b) c)\n",
    "          )\n",
    "        )\n",
    "        (sing cnil)\n",
    "      ).clist fout aout\n",
    "    \n",
    "    }\n",
    "\n",
    "  "
   ]
  },
  {
   "cell_type": "code",
   "execution_count": 20,
   "metadata": {
    "vscode": {
     "languageId": "ocaml"
    }
   },
   "outputs": [
    {
     "data": {
      "text/plain": [
       "val x : int clist = {clist = <fun>}\n"
      ]
     },
     "execution_count": 20,
     "metadata": {},
     "output_type": "execute_result"
    },
    {
     "data": {
      "text/plain": [
       "val y : string clist = {clist = <fun>}\n"
      ]
     },
     "execution_count": 20,
     "metadata": {},
     "output_type": "execute_result"
    },
    {
     "data": {
      "text/plain": [
       "val z : (int * string) clist clist = {clist = <fun>}\n"
      ]
     },
     "execution_count": 20,
     "metadata": {},
     "output_type": "execute_result"
    },
    {
     "data": {
      "text/plain": [
       "val a : (int * string) clist list =\n",
       "  [{clist = <fun>}; {clist = <fun>}; {clist = <fun>}; {clist = <fun>};\n",
       "   {clist = <fun>}; {clist = <fun>}; {clist = <fun>}; {clist = <fun>};\n",
       "   {clist = <fun>}; {clist = <fun>}; {clist = <fun>}; {clist = <fun>};\n",
       "   {clist = <fun>}; {clist = <fun>}; {clist = <fun>}; {clist = <fun>};\n",
       "   {clist = <fun>}; {clist = <fun>}; {clist = <fun>}; {clist = <fun>};\n",
       "   {clist = <fun>}; {clist = <fun>}; {clist = <fun>}; {clist = <fun>};\n",
       "   {clist = <fun>}; {clist = <fun>}; {clist = <fun>}; {clist = <fun>};\n",
       "   {clist = <fun>}; {clist = <fun>}; {clist = <fun>}; {clist = <fun>};\n",
       "   {clist = <fun>}; {clist = <fun>}; {clist = <fun>}; {clist = <fun>};\n",
       "   {clist = <fun>}; {clist = <fun>}; {clist = <fun>}; {clist = <fun>};\n",
       "   {clist = <fun>}; {clist = <fun>}; {clist = <fun>}; {clist = <fun>};\n",
       "   {clist = <fun>}; {clist = <fun>}; {clist = <fun>}; {clist = <fun>};\n",
       "   {clist = <fun>}; {clist = <fun>}; {clist = <fun>}; {clist = <fun>};\n",
       "   {clist = <fun>}; {clist = <fun>}; {clist = <fun>}; {clist = <fun>};\n",
       "   {clist = <fun>}; {clist = <fun>}; {clist = <fun>}; {clist = <fun>};\n",
       "   {clist = <fun>}; {clist = <fun>}; {clist = <fun>}; {clist = <fun>};\n",
       "   {clist = <fun>}; {clist = <fun>}; {clist = <fun>}; {clist = <fun>};\n",
       "   {clist = <fun>}; {clist = <fun>}; {clist = <fun>}; {clist = <fun>};\n",
       "   {clist = <fun>}; {clist = <fun>}; {clist = <fun>}; {clist = <fun>};\n",
       "   {clist = <fun>}; {clist = <fun>}; {clist = <fun>}; {clist = <fun>};\n",
       "   {clist = <fun>}; {clist = <fun>}; {clist = <fun>}; {clist = <fun>};\n",
       "   {clist = <fun>}; {clist = <fun>}; {clist = <fun>}; {clist = <fun>};\n",
       "   {clist = <fun>}; {clist = <fun>}; {clist = <fun>}; {clist = <fun>};\n",
       "   {clist = <fun>}; {clist = <fun>}; {clist = <fun>}; {clist = <fun>};\n",
       "   {clist = <fun>}; {clist = <fun>}; {clist = <fun>}; {clist = ...}; ...]\n"
      ]
     },
     "execution_count": 20,
     "metadata": {},
     "output_type": "execute_result"
    }
   ],
   "source": [
    "let x = list_to_clist [1 ; 2 ;3 ; 4 ; 5]\n",
    "let y = list_to_clist [\"a\" ; \"b\" ;\"c\"]\n",
    "let z = pot y x\n",
    "let a = clist_to_list z\n"
   ]
  },
  {
   "cell_type": "code",
   "execution_count": 21,
   "metadata": {
    "vscode": {
     "languageId": "ocaml"
    }
   },
   "outputs": [
    {
     "data": {
      "text/plain": [
       "- : int = 243\n"
      ]
     },
     "execution_count": 21,
     "metadata": {},
     "output_type": "execute_result"
    },
    {
     "data": {
      "text/plain": [
       "val m : (int * string) list list =\n",
       "  [[(1, \"a\"); (2, \"a\"); (3, \"a\"); (4, \"a\"); (5, \"a\")];\n",
       "   [(1, \"a\"); (2, \"a\"); (3, \"a\"); (4, \"a\"); (5, \"b\")];\n",
       "   [(1, \"a\"); (2, \"a\"); (3, \"a\"); (4, \"a\"); (5, \"c\")];\n",
       "   [(1, \"a\"); (2, \"a\"); (3, \"a\"); (4, \"b\"); (5, \"a\")];\n",
       "   [(1, \"a\"); (2, \"a\"); (3, \"a\"); (4, \"b\"); (5, \"b\")];\n",
       "   [(1, \"a\"); (2, \"a\"); (3, \"a\"); (4, \"b\"); (5, \"c\")];\n",
       "   [(1, \"a\"); (2, \"a\"); (3, \"a\"); (4, \"c\"); (5, \"a\")];\n",
       "   [(1, \"a\"); (2, \"a\"); (3, \"a\"); (4, \"c\"); (5, \"b\")];\n",
       "   [(1, \"a\"); (2, \"a\"); (3, \"a\"); (4, \"c\"); (5, \"c\")];\n",
       "   [(1, \"a\"); (2, \"a\"); (3, \"b\"); (4, \"a\"); (5, \"a\")];\n",
       "   [(1, \"a\"); (2, \"a\"); (3, \"b\"); (4, \"a\"); (5, \"b\")];\n",
       "   [(1, \"a\"); (2, \"a\"); (3, \"b\"); (4, \"a\"); (5, \"c\")];\n",
       "   [(1, \"a\"); (2, \"a\"); (3, \"b\"); (4, \"b\"); (5, \"a\")];\n",
       "   [(1, \"a\"); (2, \"a\"); (3, \"b\"); (4, \"b\"); (5, \"b\")];\n",
       "   [(1, \"a\"); (2, \"a\"); (3, \"b\"); (4, \"b\"); (5, \"c\")];\n",
       "   [(1, \"a\"); (2, \"a\"); (3, \"b\"); (4, \"c\"); (5, \"a\")];\n",
       "   [(1, \"a\"); (2, \"a\"); (3, \"b\"); (4, \"c\"); (5, \"b\")];\n",
       "   [(1, \"a\"); (2, \"a\"); (3, \"b\"); (4, \"c\"); (5, \"c\")];\n",
       "   [(1, \"a\"); (2, \"a\"); (3, \"c\"); (...); ...]; ...]\n"
      ]
     },
     "execution_count": 21,
     "metadata": {},
     "output_type": "execute_result"
    }
   ],
   "source": [
    "List.length a\n",
    "let m = List.map (clist_to_list) a"
   ]
  },
  {
   "cell_type": "code",
   "execution_count": null,
   "metadata": {
    "vscode": {
     "languageId": "ocaml"
    }
   },
   "outputs": [],
   "source": []
  },
  {
   "cell_type": "code",
   "execution_count": null,
   "metadata": {
    "vscode": {
     "languageId": "ocaml"
    }
   },
   "outputs": [],
   "source": []
  }
 ],
 "metadata": {
  "kernelspec": {
   "display_name": "OCaml default",
   "language": "OCaml",
   "name": "ocaml-jupyter"
  },
  "language_info": {
   "codemirror_mode": "text/x-ocaml",
   "file_extension": ".ml",
   "mimetype": "text/x-ocaml",
   "name": "OCaml",
   "nbconverter_exporter": null,
   "pygments_lexer": "OCaml",
   "version": "4.14.0"
  },
  "orig_nbformat": 4
 },
 "nbformat": 4,
 "nbformat_minor": 2
}
