{
 "cells": [
  {
   "cell_type": "code",
   "execution_count": 10,
   "metadata": {
    "vscode": {
     "languageId": "ocaml"
    }
   },
   "outputs": [
    {
     "data": {
      "text/plain": [
       "val rek : 'a list -> 'a list -> 'a list -> 'a list * 'a list = <fun>\n"
      ]
     },
     "execution_count": 10,
     "metadata": {},
     "output_type": "execute_result"
    },
    {
     "data": {
      "text/plain": [
       "val split : 'a list -> 'a list * 'a list = <fun>\n"
      ]
     },
     "execution_count": 10,
     "metadata": {},
     "output_type": "execute_result"
    },
    {
     "data": {
      "text/plain": [
       "val merget : ('a -> 'a -> bool) -> 'a list -> 'a list -> 'a list -> 'a list =\n",
       "  <fun>\n"
      ]
     },
     "execution_count": 10,
     "metadata": {},
     "output_type": "execute_result"
    },
    {
     "data": {
      "text/plain": [
       "val sortet : 'a list -> 'a list = <fun>\n"
      ]
     },
     "execution_count": 10,
     "metadata": {},
     "output_type": "execute_result"
    }
   ],
   "source": [
    "let rec rek xs ys zs =\n",
    "  match xs with\n",
    "  | [] -> ys, zs\n",
    "  | [x] -> x :: ys , zs\n",
    "  | [x ; y] -> x :: ys , y :: zs\n",
    "  | x :: y :: rest -> rek rest (x :: ys) ( y :: zs) \n",
    "\n",
    "let split xs = rek xs [] []\n",
    "\n",
    "let rec merget cmp xs ys zs t =\n",
    "  match xs, ys with\n",
    "  | [], ys ->  zs @ List.reverse  ys\n",
    "  | xs, [] -> List.reverse zs @ xs\n",
    "  | (x :: xs), (y :: ys) when cmp x y -> (merget [@tailcall]) cmp xs (y :: ys) (x :: zs)\n",
    "  | (x :: xs), (y :: ys) -> (merget [@tailcall]) cmp (x :: xs) ys (y :: zs)\n",
    "\n",
    "  let rec sortet = function\n",
    "  | [] -> []\n",
    "  | [x] -> [x]\n",
    "  | x :: xs as l -> let (f, s) = split l in merget (<=) (sortet f) (sortet s) []"
   ]
  }
 ],
 "metadata": {
  "kernelspec": {
   "display_name": "OCaml default",
   "language": "OCaml",
   "name": "ocaml-jupyter"
  },
  "language_info": {
   "codemirror_mode": "text/x-ocaml",
   "file_extension": ".ml",
   "mimetype": "text/x-ocaml",
   "name": "OCaml",
   "nbconverter_exporter": null,
   "pygments_lexer": "OCaml",
   "version": "4.14.0"
  },
  "orig_nbformat": 4
 },
 "nbformat": 4,
 "nbformat_minor": 2
}
